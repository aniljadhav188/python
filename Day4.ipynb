{
 "cells": [
  {
   "cell_type": "markdown",
   "metadata": {},
   "source": [
    "# day 4 :Assignment"
   ]
  },
  {
   "cell_type": "code",
   "execution_count": 2,
   "metadata": {},
   "outputs": [
    {
     "name": "stdout",
     "output_type": "stream",
     "text": [
      "The first armstrong number 1741725\n"
     ]
    }
   ],
   "source": [
    "lst=range(1042000,702648265)\n",
    "add=0\n",
    "count=0\n",
    "x=0\n",
    "y=0\n",
    "while lst[x]!=lst[-1]:\n",
    "      num=n=lst[x]\n",
    "      count=0\n",
    "      while n!=0:\n",
    "          n=n//10\n",
    "          count+=1\n",
    "         \n",
    "      while num>0:    \n",
    "          y= num % 10\n",
    "          add=add+pow(y,count)\n",
    "          num=num//10\n",
    "     # print(lst[x])\n",
    "      if add==lst[x]:\n",
    "        print(\"The first armstrong number\",add)\n",
    "        break\n",
    "      x+=1 \n",
    "      add=0"
   ]
  },
  {
   "cell_type": "code",
   "execution_count": null,
   "metadata": {},
   "outputs": [],
   "source": []
  }
 ],
 "metadata": {
  "kernelspec": {
   "display_name": "Python 3",
   "language": "python",
   "name": "python3"
  },
  "language_info": {
   "codemirror_mode": {
    "name": "ipython",
    "version": 3
   },
   "file_extension": ".py",
   "mimetype": "text/x-python",
   "name": "python",
   "nbconvert_exporter": "python",
   "pygments_lexer": "ipython3",
   "version": "3.7.6"
  }
 },
 "nbformat": 4,
 "nbformat_minor": 4
}
